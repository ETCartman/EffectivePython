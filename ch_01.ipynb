{
 "cells": [
  {
   "cell_type": "markdown",
   "metadata": {},
   "source": [
    "# 第一条 确认自己的Python版本"
   ]
  },
  {
   "cell_type": "code",
   "execution_count": 1,
   "metadata": {},
   "outputs": [
    {
     "name": "stdout",
     "output_type": "stream",
     "text": [
      "sys.version_info(major=3, minor=6, micro=1, releaselevel='final', serial=0)\n",
      "3.6.1 |Anaconda 4.4.0 (64-bit)| (default, May 11 2017, 13:25:24) [MSC v.1900 64 bit (AMD64)]\n"
     ]
    }
   ],
   "source": [
    "import sys\n",
    "print(sys.version_info)\n",
    "print(sys.version)"
   ]
  },
  {
   "cell_type": "markdown",
   "metadata": {},
   "source": [
    "# 第二条 遵循PEP8风格指南 \n",
    "[PEP 8](http://www.python.org/dev/peps/pep-0008)"
   ]
  },
  {
   "cell_type": "markdown",
   "metadata": {},
   "source": [
    "### 空白\n",
    "* 用空格缩进 不要用制表符\n",
    "* 每行字符数不超过79个\n",
    "* 函数与类之间应用两个空行隔开\n",
    "* 同一个类中两个方法应该用一个空行隔开\n",
    "*　赋值符号左右要加空格\n",
    "### 命名\n",
    "* 函数、变量和属性间用小写字母单词间用下划线隔开\n",
    "* 受保护属性用单个下划线开头\n",
    "* 私有属性用双下划线开头\n",
    "* 类与异常的首字母都大写\n",
    "* 模块级变量均用大写\n",
    "### 表达式与语句\n",
    "* 不要把否定词放在表达式的前面\n",
    "* import 放在文件开头\n",
    "* 把import分别为三部分 标准库、第三方模块、自用模块"
   ]
  },
  {
   "cell_type": "markdown",
   "metadata": {},
   "source": [
    "# 第三条 了解bytes,str与unicode的区别 "
   ]
  },
  {
   "cell_type": "markdown",
   "metadata": {},
   "source": [
    "* python3 有str(包含Unicode字符)和bytes(包含原始八位值 每个字节有八个二进制位)\n",
    "* python 有unicode(Unicode)和str(原始八位值)\n",
    "* unicode转换成二进制是用encode方法\n",
    "* 要把编码和解码放在最外围来做 核心部位用Unicode来实现"
   ]
  },
  {
   "cell_type": "code",
   "execution_count": 5,
   "metadata": {
    "collapsed": true
   },
   "outputs": [],
   "source": [
    "# Python3\n",
    "def to_str(bytes_or_str):\n",
    "    if isinstance(bytes_or_str,bytes):\n",
    "        value = bytes_or_str.decode('utf-8')\n",
    "    else:\n",
    "        value = bytes_or_str\n",
    "    return value"
   ]
  },
  {
   "cell_type": "code",
   "execution_count": 6,
   "metadata": {
    "collapsed": true
   },
   "outputs": [],
   "source": [
    "def to_bytes(bytes_or_str):\n",
    "    if isinstance(bytes_or_str,str):\n",
    "        value = bytes_or_str.encode('utf-8')\n",
    "    else:\n",
    "        value = bytes_or_str\n",
    "    return value"
   ]
  },
  {
   "cell_type": "markdown",
   "metadata": {},
   "source": [
    "Python在读二进制文件会报错 因为open的默认是utf-8"
   ]
  },
  {
   "cell_type": "markdown",
   "metadata": {},
   "source": [
    "# 第四条 用辅助函数来取代复杂的表达式"
   ]
  },
  {
   "cell_type": "code",
   "execution_count": 10,
   "metadata": {},
   "outputs": [
    {
     "name": "stdout",
     "output_type": "stream",
     "text": [
      "{'red': ['5'], 'blue': ['0'], 'green': ['']}\n"
     ]
    }
   ],
   "source": [
    "from urllib.parse import parse_qs\n",
    "my_values = parse_qs('red=5&blue=0&green=',keep_blank_values=True)\n",
    "print(repr(my_values))"
   ]
  },
  {
   "cell_type": "code",
   "execution_count": 11,
   "metadata": {},
   "outputs": [
    {
     "name": "stdout",
     "output_type": "stream",
     "text": [
      "red:  ['5']\n",
      "green:  ['']\n",
      "opacity:  None\n"
     ]
    }
   ],
   "source": [
    "print('red: ',my_values.get('red'))\n",
    "print('green: ',my_values.get('green'))\n",
    "print('opacity: ',my_values.get('opacity'))"
   ]
  },
  {
   "cell_type": "markdown",
   "metadata": {},
   "source": [
    "* 如果没值或空返回零就好了"
   ]
  },
  {
   "cell_type": "code",
   "execution_count": 12,
   "metadata": {},
   "outputs": [
    {
     "name": "stdout",
     "output_type": "stream",
     "text": [
      "red:  5\n",
      "green:  0\n",
      "opacity:  0\n"
     ]
    }
   ],
   "source": [
    "red = my_values.get('red',[''])[0] or 0\n",
    "green = my_values.get('green',[''])[0] or 0\n",
    "opacity = my_values.get('opacity',[''])[0] or 0\n",
    "print('red: ',red)\n",
    "print('green: ',green)\n",
    "print('opacity: ',opacity)"
   ]
  },
  {
   "cell_type": "code",
   "execution_count": 13,
   "metadata": {
    "collapsed": true
   },
   "outputs": [],
   "source": [
    "red = int(my_values.get('red',[''])[0] or 0) #不好读"
   ]
  },
  {
   "cell_type": "code",
   "execution_count": 14,
   "metadata": {
    "collapsed": true
   },
   "outputs": [],
   "source": [
    "red = my_values.get('red',[''])\n",
    "red = int(red[0]) if red[0] else 0"
   ]
  },
  {
   "cell_type": "code",
   "execution_count": 15,
   "metadata": {
    "collapsed": true
   },
   "outputs": [],
   "source": [
    "green = my_values.get('green',[''])\n",
    "if green[0]:\n",
    "    green = int(green[0])\n",
    "else:\n",
    "    green = 0   # 这种写法容易懂"
   ]
  },
  {
   "cell_type": "code",
   "execution_count": 16,
   "metadata": {
    "collapsed": true
   },
   "outputs": [],
   "source": [
    "# 辅助函数\n",
    "def get_first_int(values,key,default=0):\n",
    "    found = values.get(key,[''])\n",
    "    if found[0]:\n",
    "        found = int(found[0])\n",
    "    else:\n",
    "        found = default\n",
    "    return found"
   ]
  },
  {
   "cell_type": "code",
   "execution_count": 18,
   "metadata": {},
   "outputs": [
    {
     "data": {
      "text/plain": [
       "5"
      ]
     },
     "execution_count": 18,
     "metadata": {},
     "output_type": "execute_result"
    }
   ],
   "source": [
    "get_first_int(my_values,'red')"
   ]
  },
  {
   "cell_type": "code",
   "execution_count": 19,
   "metadata": {},
   "outputs": [
    {
     "data": {
      "text/plain": [
       "0"
      ]
     },
     "execution_count": 19,
     "metadata": {},
     "output_type": "execute_result"
    }
   ],
   "source": [
    "get_first_int(my_values,'green')"
   ]
  },
  {
   "cell_type": "markdown",
   "metadata": {},
   "source": [
    "如果表达式很复杂就换成函数表达"
   ]
  },
  {
   "cell_type": "markdown",
   "metadata": {},
   "source": [
    "# 第五条 了解切割序列的方法"
   ]
  },
  {
   "cell_type": "code",
   "execution_count": 20,
   "metadata": {},
   "outputs": [
    {
     "name": "stdout",
     "output_type": "stream",
     "text": [
      "First four ['a', 'b', 'c', 'd']\n",
      "Last four ['e', 'f', 'g', 'h']\n",
      "Middle two ['d', 'e']\n"
     ]
    }
   ],
   "source": [
    "a = ['a','b','c','d','e','f','g','h']\n",
    "print('First four',a[:4])\n",
    "print('Last four',a[-4:])\n",
    "print('Middle two',a[3:-3])"
   ]
  },
  {
   "cell_type": "code",
   "execution_count": 21,
   "metadata": {
    "collapsed": true
   },
   "outputs": [],
   "source": [
    "assert a[:5] == a[0:5] # 断言"
   ]
  },
  {
   "cell_type": "code",
   "execution_count": 23,
   "metadata": {},
   "outputs": [],
   "source": [
    "assert a[5:] == a[5:len(a)]"
   ]
  },
  {
   "cell_type": "code",
   "execution_count": 24,
   "metadata": {
    "collapsed": true
   },
   "outputs": [],
   "source": [
    "# 单个访问是不能越界的"
   ]
  },
  {
   "cell_type": "code",
   "execution_count": null,
   "metadata": {
    "collapsed": true
   },
   "outputs": [],
   "source": []
  }
 ],
 "metadata": {
  "kernelspec": {
   "display_name": "Python 3",
   "language": "python",
   "name": "python3"
  },
  "language_info": {
   "codemirror_mode": {
    "name": "ipython",
    "version": 3
   },
   "file_extension": ".py",
   "mimetype": "text/x-python",
   "name": "python",
   "nbconvert_exporter": "python",
   "pygments_lexer": "ipython3",
   "version": "3.6.1"
  }
 },
 "nbformat": 4,
 "nbformat_minor": 2
}
